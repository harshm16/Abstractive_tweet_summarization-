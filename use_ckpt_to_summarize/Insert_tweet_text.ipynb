{
  "cells": [
    {
      "cell_type": "code",
      "execution_count": 2,
      "metadata": {
        "id": "axiI4RQRoCY4"
      },
      "outputs": [],
      "source": [
        "#Install and import the required packages.\n",
        "\n",
        "import matplotlib.pyplot as plt\n",
        "import numpy as np\n",
        "import tensorflow as tf\n",
        "import transformers\n",
        "import tensorflow_datasets as tfds\n",
        "import torch"
      ]
    },
    {
      "cell_type": "code",
      "execution_count": null,
      "metadata": {},
      "outputs": [],
      "source": [
        "### In case you want to extract live tweets and run our model on those -:\n",
        "\n",
        "### 1) Extract tweets for the given keyword and time period. (extract_tweets folder)\n",
        "### 2) Extract sentiments from those tweets. (tweet_sentiment folder)\n",
        "### 3) Pad tweets of same sentiment and extract keywords. (keyword_extraction folder)\n",
        "### 4) Read the csv containing the padded tweets and provide each tweet as the input below."
      ]
    },
    {
      "cell_type": "code",
      "execution_count": 15,
      "metadata": {
        "id": "3oImhhdFoCY6"
      },
      "outputs": [],
      "source": [
        "#load model trained on reddit dataset\n",
        "# model_checkpoint = \"..\\\\pre-trained_models\\\\ckpt_reddit_dataset\"\n",
        "\n",
        "\n",
        "#load model trained on xsum dataset\n",
        "model_checkpoint = \"..\\\\pre-trained_models\\\\ckpt_xsum_dataset\""
      ]
    },
    {
      "cell_type": "code",
      "execution_count": 16,
      "metadata": {
        "id": "eXNLu_-nIrJI"
      },
      "outputs": [],
      "source": [
        "from transformers import AutoTokenizer\n",
        "from transformers import AutoModelForSeq2SeqLM\n",
        "\n",
        "model = AutoModelForSeq2SeqLM.from_pretrained(model_checkpoint)\n",
        "\n",
        "tokenizer = AutoTokenizer.from_pretrained(model_checkpoint)"
      ]
    },
    {
      "cell_type": "code",
      "execution_count": 17,
      "metadata": {},
      "outputs": [],
      "source": [
        "#Insert text to be summarized here\n",
        "\n",
        "input_tweet = \"\"\"BREAKING: Twitter is in the final stretch of negotiations about a sale to Elon Musk and \n",
        "could reach a deal as soon as Monday. The social media company is working to hammer out terms of a transaction and \n",
        "could reach an agreement as soon as Monday if negotiations go smoothly, according to a person with knowledge of the matter \"\"\""
      ]
    },
    {
      "cell_type": "code",
      "execution_count": 23,
      "metadata": {},
      "outputs": [
        {
          "data": {
            "text/plain": [
              "'Twitter is in negotiations about a sale to Elon Musk and could reach a deal as soon as Monday, according to a person with knowledge of the matter.'"
            ]
          },
          "execution_count": 23,
          "metadata": {},
          "output_type": "execute_result"
        }
      ],
      "source": [
        "inputs = tokenizer(input_tweet, max_length=1024, return_tensors=\"pt\")\n",
        "\n",
        "summary_ids = model.generate(inputs[\"input_ids\"],min_length = 10,max_length=40)\n",
        "tokenizer.batch_decode(summary_ids, skip_special_tokens=True, clean_up_tokenization_spaces=False)[0]"
      ]
    }
  ],
  "metadata": {
    "colab": {
      "name": "Summarization",
      "provenance": []
    },
    "interpreter": {
      "hash": "d61e1109225bf29d6c16a9bc24f38ed9db671ded9b9d09d5c99f491a5ccf2da8"
    },
    "kernelspec": {
      "display_name": "Python 3.9.7 ('new')",
      "language": "python",
      "name": "python3"
    },
    "language_info": {
      "codemirror_mode": {
        "name": "ipython",
        "version": 3
      },
      "file_extension": ".py",
      "mimetype": "text/x-python",
      "name": "python",
      "nbconvert_exporter": "python",
      "pygments_lexer": "ipython3",
      "version": "3.9.7"
    }
  },
  "nbformat": 4,
  "nbformat_minor": 0
}
