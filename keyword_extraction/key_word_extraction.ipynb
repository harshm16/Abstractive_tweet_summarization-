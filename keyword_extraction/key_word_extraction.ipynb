{
 "cells": [
  {
   "cell_type": "code",
   "execution_count": 6,
   "metadata": {},
   "outputs": [],
   "source": [
    "#Install and import the required packages.\n",
    "\n",
    "# !pip install keybert\n",
    "# !pip install KeyphraseCountVectorizer\n",
    "\n",
    "import pandas as pd\n",
    "from keyphrase_vectorizers import KeyphraseCountVectorizer\n",
    "\n",
    "from keybert import KeyBERT"
   ]
  },
  {
   "cell_type": "code",
   "execution_count": 7,
   "metadata": {},
   "outputs": [],
   "source": [
    "all_files = ['arsenal.csv',\n",
    "'aston_vila.csv',\n",
    "'chelsea.csv',\n",
    "'everton.csv',\n",
    "'leeds.csv',\n",
    "'leicester.csv',\n",
    "'man_city.csv',\n",
    "'man_united.csv']\n",
    "\n",
    "tweet_types = [\"positive\", \"negative\", \"neutral\"]"
   ]
  },
  {
   "cell_type": "code",
   "execution_count": 8,
   "metadata": {},
   "outputs": [
    {
     "name": "stdout",
     "output_type": "stream",
     "text": [
      "{'binary': False, 'dtype': <class 'numpy.int64'>, 'lowercase': True, 'max_df': None, 'min_df': None, 'pos_pattern': '<J.*>*<N.*>+', 'spacy_pipeline': 'en_core_web_sm', 'stop_words': 'english', 'workers': 1}\n"
     ]
    }
   ],
   "source": [
    "# This allows us to specify the length of the keywords and make them into keyphrases.\n",
    "vectorizer = KeyphraseCountVectorizer()\n",
    "\n",
    "# Print parameters\n",
    "print(vectorizer.get_params())\n",
    "\n",
    "kw_model = KeyBERT()"
   ]
  },
  {
   "cell_type": "code",
   "execution_count": 12,
   "metadata": {},
   "outputs": [],
   "source": [
    "for filenames in all_files:\n",
    "    df = pd.read_csv(\"..\\\\data\\\\\" + filenames)\n",
    "    df = df.drop_duplicates(subset=['processed_tweet'])\n",
    "\n",
    "    #Use tweets where the extracted sentiment is greater than 55% according to the cardiffnlp sentiment analysis model.\n",
    "    for tweet_type in tweet_types:\n",
    "        positive_df = df[df[tweet_type] > 0.55] \n",
    "\n",
    "        join_tweets = \"\"\n",
    "        all_tweets = []\n",
    "\n",
    "        for index, row in positive_df.iterrows():\n",
    "                \n",
    "            f=len(join_tweets.split()) \n",
    "            tweet_length = len(row['processed_tweet'].split())\n",
    "            #join a set of tweets if the tweet length of them are less than 40 words.\n",
    "            if f + tweet_length <= 40:\n",
    "                join_tweets = join_tweets + \" \" + str(row['processed_tweet'])\n",
    "            \n",
    "            else:\n",
    "                all_tweets.append(join_tweets)\n",
    "                join_tweets = str(row['processed_tweet'])\n",
    "\n",
    "       \n",
    "\n",
    "        # passing KeyphraseCountVectorizer as the vectorizer helps us be flexible with the n-grams of the keywords that are extracted.\n",
    "        # We would not need to specify a defined number of words (n-grams) that should be found in the keyword.\n",
    "        keywords = kw_model.extract_keywords(docs=all_tweets, vectorizer=KeyphraseCountVectorizer())\n",
    "\n",
    "        tweet_detail = \"tweet\" + tweet_type\n",
    "\n",
    "        dict = {tweet_detail : all_tweets, 'keyphrases' : keywords}\n",
    "\n",
    "        new_df = pd.DataFrame(dict)\n",
    "\n",
    "        new_df.to_csv(tweet_type + \"_\" + filenames)\n"
   ]
  }
 ],
 "metadata": {
  "interpreter": {
   "hash": "2da2a73e1fa3d3f07a74f997a661a835fd4e4fbfd490ebdaf38d60cbb8de6028"
  },
  "kernelspec": {
   "display_name": "Python 3.8.11 ('score-denoise')",
   "language": "python",
   "name": "python3"
  },
  "language_info": {
   "codemirror_mode": {
    "name": "ipython",
    "version": 3
   },
   "file_extension": ".py",
   "mimetype": "text/x-python",
   "name": "python",
   "nbconvert_exporter": "python",
   "pygments_lexer": "ipython3",
   "version": "3.8.11"
  },
  "orig_nbformat": 4
 },
 "nbformat": 4,
 "nbformat_minor": 2
}
